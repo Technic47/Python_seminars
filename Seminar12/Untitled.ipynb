{
 "cells": [
  {
   "cell_type": "markdown",
   "id": "91e4602f",
   "metadata": {},
   "source": [
    "К аналитику обратился риэлтор c задачей выставить ценник для продажи объектов недвижимости площадью 48м2 и 54м2. В ходе работы над задачей аналитик выяснил, что:  \n",
    "\n",
    "объект 31м2 стоит $19310\n",
    "\n",
    "объект 51м2 стоит $52150\n",
    "\n",
    "объект 61м2 стоит $74570\n",
    "\n",
    "Вопрос: что. сказать риелтору?\n"
   ]
  },
  {
   "cell_type": "code",
   "execution_count": 1,
   "id": "c5580beb",
   "metadata": {},
   "outputs": [
    {
     "name": "stdout",
     "output_type": "stream",
     "text": [
      "622.9032258064516 1022.5490196078431 1222.4590163934427\n"
     ]
    }
   ],
   "source": [
    "x1 = 19310/31\n",
    "x2 = 52150/51\n",
    "x3 = 74570/61\n",
    "print(x1, x2, x3)"
   ]
  },
  {
   "cell_type": "code",
   "execution_count": null,
   "id": "8168ee83",
   "metadata": {},
   "outputs": [],
   "source": []
  }
 ],
 "metadata": {
  "kernelspec": {
   "display_name": "Python 3 (ipykernel)",
   "language": "python",
   "name": "python3"
  },
  "language_info": {
   "codemirror_mode": {
    "name": "ipython",
    "version": 3
   },
   "file_extension": ".py",
   "mimetype": "text/x-python",
   "name": "python",
   "nbconvert_exporter": "python",
   "pygments_lexer": "ipython3",
   "version": "3.9.12"
  }
 },
 "nbformat": 4,
 "nbformat_minor": 5
}
