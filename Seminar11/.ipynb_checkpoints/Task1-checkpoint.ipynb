{
 "cells": [
  {
   "cell_type": "code",
   "execution_count": null,
   "id": "0b4c5dc7",
   "metadata": {},
   "outputs": [],
   "source": [
    " f(x) = 5x^2 + 10x - 30\n",
    "1. Определить корни\n",
    "2. Найти интервалы, на которых функция возрастает\n",
    "3. Найти интервалы, на которых функция убывает\n",
    "4. Построить график\n",
    "5. Вычислить вершину\n",
    "6. Определить промежутки, на котором f > 0\n",
    "7. Определить промежутки, на котором f < 0"
   ]
  },
  {
   "cell_type": "code",
   "execution_count": 1,
   "id": "e21aede3",
   "metadata": {},
   "outputs": [],
   "source": [
    "import sympy\n",
    "from sympy import is_decreasing, is_increasing\n",
    "from sympy.abc import x, y\n",
    "from sympy import S, Interval, oo"
   ]
  },
  {
   "cell_type": "markdown",
   "id": "f382ce4d",
   "metadata": {},
   "source": [
    "1. Определить корни"
   ]
  },
  {
   "cell_type": "code",
   "execution_count": 54,
   "id": "4517db4e",
   "metadata": {},
   "outputs": [
    {
     "name": "stdout",
     "output_type": "stream",
     "text": [
      "[1.64575131106459, -3.64575131106459]\n"
     ]
    }
   ],
   "source": [
    "from sympy import N, sqrt\n",
    "x = sympy.symbols('x')\n",
    "\n",
    "ans = sympy.solve(5*x**2 + 10*x - 30)\n",
    "\n",
    "shrinking = (-1 + sqrt(7), -sqrt(7) - 1)\n",
    "shrinking = list(map(N,shrinking))\n",
    "print(shrinking)"
   ]
  },
  {
   "cell_type": "markdown",
   "id": "27312ce8",
   "metadata": {},
   "source": [
    "2. Найти интервалы, на которых функция возрастает"
   ]
  },
  {
   "cell_type": "code",
   "execution_count": 23,
   "id": "300a38c7",
   "metadata": {},
   "outputs": [
    {
     "data": {
      "text/plain": [
       "True"
      ]
     },
     "execution_count": 23,
     "metadata": {},
     "output_type": "execute_result"
    }
   ],
   "source": [
    "is_increasing(5*x**2 + 10*x - 30, Interval.open(-1, oo))"
   ]
  },
  {
   "cell_type": "markdown",
   "id": "c6800284",
   "metadata": {},
   "source": [
    "3. Найти интервалы, на которых функция убывает"
   ]
  },
  {
   "cell_type": "code",
   "execution_count": 20,
   "id": "47e81657",
   "metadata": {},
   "outputs": [
    {
     "data": {
      "text/plain": [
       "True"
      ]
     },
     "execution_count": 20,
     "metadata": {},
     "output_type": "execute_result"
    }
   ],
   "source": [
    "\n",
    "is_decreasing(5*x**2 + 10*x - 30, Interval.open(-oo, -1))"
   ]
  },
  {
   "cell_type": "markdown",
   "id": "a0fcfc0b",
   "metadata": {},
   "source": [
    "4. Построить график"
   ]
  },
  {
   "cell_type": "code",
   "execution_count": 77,
   "id": "d42e71c2",
   "metadata": {},
   "outputs": [
    {
     "data": {
      "image/png": "[encoded data removed]",
      "text/plain": [
       "<Figure size 864x864 with 1 Axes>"
      ]
     },
     "metadata": {
      "needs_background": "light"
     },
     "output_type": "display_data"
    }
   ],
   "source": [
    "import matplotlib.pyplot as plt\n",
    "\n",
    "x = [(5*(x**2) + 10*x - 30) for x in range(-10, 11)]\n",
    "y = [y for y in range(-10, 11)]\n",
    "\n",
    "fig = plt.figure()\n",
    "\n",
    "ax_3 = fig.add_subplot(2, 2, 4)\n",
    "\n",
    "ax_3.plot(y, x)\n",
    "ax_3.grid(axis = 'both')\n",
    "ax_3.set_title('some stuff')\n",
    "\n",
    "fig.set_figwidth(12)\n",
    "fig.set_figheight(12)\n",
    "\n",
    "plt.show()"
   ]
  },
  {
   "cell_type": "markdown",
   "id": "51d74452",
   "metadata": {},
   "source": [
    "5. Вычислить вершину"
   ]
  },
  {
   "cell_type": "markdown",
   "id": "bf3b8742",
   "metadata": {},
   "source": [
    "x = -b/2a - вершина функции\n",
    "x = -1"
   ]
  },
  {
   "cell_type": "code",
   "execution_count": 35,
   "id": "f2eca7a3",
   "metadata": {},
   "outputs": [
    {
     "data": {
      "text/latex": [
       "$\\displaystyle -35$"
      ],
      "text/plain": [
       "-35"
      ]
     },
     "execution_count": 35,
     "metadata": {},
     "output_type": "execute_result"
    }
   ],
   "source": [
    "from sympy import Interval, Symbol, minimum, S\n",
    "minimum(5*x**2 + 10*x - 30, x, S.Reals)"
   ]
  },
  {
   "cell_type": "markdown",
   "id": "ac92a128",
   "metadata": {},
   "source": [
    "6. Определить промежутки, на котором f > 0\n",
    "7. Определить промежутки, на котором f < 0"
   ]
  },
  {
   "cell_type": "code",
   "execution_count": 48,
   "id": "bbe54f38",
   "metadata": {
    "scrolled": false
   },
   "outputs": [
    {
     "name": "stdout",
     "output_type": "stream",
     "text": [
      "   -5  45\n",
      "-4.75  35.3125\n",
      " -4.5  26.25\n",
      "-4.25  17.8125\n",
      " -4.0  10.0\n",
      "-3.75  2.8125\n",
      " -3.5  -3.75\n",
      "-3.25  -9.6875\n",
      " -3.0  -15.0\n",
      "-2.75  -19.6875\n",
      " -2.5  -23.75\n",
      "-2.25  -27.1875\n",
      " -2.0  -30.0\n",
      "-1.75  -32.1875\n",
      " -1.5  -33.75\n",
      "-1.25  -34.6875\n",
      " -1.0  -35.0\n",
      "-0.75  -34.6875\n",
      " -0.5  -33.75\n",
      "-0.25  -32.1875\n",
      "  0.0  -30.0\n",
      " 0.25  -27.1875\n",
      "  0.5  -23.75\n",
      " 0.75  -19.6875\n",
      "  1.0  -15.0\n",
      " 1.25  -9.6875\n",
      "  1.5  -3.75\n",
      " 1.75  2.8125\n",
      "  2.0  10.0\n",
      " 2.25  17.8125\n",
      "  2.5  26.25\n",
      " 2.75  35.3125\n",
      "  3.0  45.0\n",
      " 3.25  55.3125\n",
      "  3.5  66.25\n",
      " 3.75  77.8125\n",
      "  4.0  90.0\n",
      " 4.25  102.8125\n",
      "  4.5  116.25\n",
      " 4.75  130.3125\n"
     ]
    }
   ],
   "source": [
    "i = -5\n",
    "while i < 5:\n",
    "    res = 5*(i**2) + 10*i - 30\n",
    "    print(f'{i:5}  {res}')\n",
    "    i += 0.25"
   ]
  },
  {
   "cell_type": "code",
   "execution_count": null,
   "id": "4ad57026",
   "metadata": {},
   "outputs": [],
   "source": []
  }
 ],
 "metadata": {
  "kernelspec": {
   "display_name": "Python 3 (ipykernel)",
   "language": "python",
   "name": "python3"
  },
  "language_info": {
   "codemirror_mode": {
    "name": "ipython",
    "version": 3
   },
   "file_extension": ".py",
   "mimetype": "text/x-python",
   "name": "python",
   "nbconvert_exporter": "python",
   "pygments_lexer": "ipython3",
   "version": "3.9.12"
  }
 },
 "nbformat": 4,
 "nbformat_minor": 5
}
